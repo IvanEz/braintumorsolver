{
 "cells": [
  {
   "cell_type": "code",
   "execution_count": 1,
   "metadata": {},
   "outputs": [],
   "source": [
    "from tumor_mass_effect import semi_implicit_solver\n",
    "from medpy.io import load\n",
    "import numpy as np\n",
    "import math\n",
    "import torch\n",
    "import copy\n",
    "from torch import nn\n",
    "import torch.nn.functional as F\n",
    "from torch.autograd import Variable\n",
    "%load_ext autoreload\n",
    "%autoreload 2"
   ]
  },
  {
   "cell_type": "markdown",
   "metadata": {},
   "source": [
    "## All parameters"
   ]
  },
  {
   "cell_type": "code",
   "execution_count": 2,
   "metadata": {},
   "outputs": [],
   "source": [
    "epsilon = 0.9\n",
    "anatomy_folder = '/media/Drives/Data/leon_tumor/Atlas/anatomy/'\n",
    "Dg = 1.52e-08\n",
    "Dw = 1.52e-07\n",
    "dt = 4.0\n",
    "rho = 0.1\n",
    "dx = 0.002\n",
    "E = np.float32(np.asarray([2100, 2100, 100, 8000]))\n",
    "nu = np.float32(np.asarray([0.4, 0.4, 0.1, 0.45]))\n",
    "gamma = 16000.\n",
    "MaxIter = 20"
   ]
  },
  {
   "cell_type": "code",
   "execution_count": 3,
   "metadata": {},
   "outputs": [],
   "source": [
    "wm, _ = load(anatomy_folder+'WM.nii.gz')\n",
    "gm, _ = load(anatomy_folder+'GM.nii.gz')\n",
    "csf, _ = load(anatomy_folder+'CSF.nii.gz')"
   ]
  },
  {
   "cell_type": "markdown",
   "metadata": {},
   "source": [
    "## Simulator"
   ]
  },
  {
   "cell_type": "markdown",
   "metadata": {},
   "source": [
    "#\n",
    "\\begin{aligned}\n",
    "\\partial_{t} c+\\operatorname{div}(c \\boldsymbol{v})-\\kappa \\mathcal{D} c-\\rho \\mathcal{R} c &=0, \\quad c(0)=c_{0}  & \\text { in } \\Omega \\times[0,1] \\\\\n",
    "\\partial_{t} m_i+\\nabla \\cdot\\left(m_i \\boldsymbol{v}\\right) &=0, \\quad m_i(0)=m_{i0} & \\text { in } \\Omega \\times[0,1] \\\\\n",
    "\\left(\\lambda +\\mu\\right)\\Delta \\boldsymbol{u}+\\mu\\nabla \\nabla\\cdot \\boldsymbol{u}  &=\\gamma \\nabla c & \\text { in } \\Omega \\times[0,1] \\\\\n",
    "\\partial_{t} \\boldsymbol{u} &=\\boldsymbol{v},  \\quad \\boldsymbol{u}(0)=\\mathbf{0} & \\text { in } \\Omega \\times[0,1]\n",
    "\\end{aligned}"
   ]
  },
  {
   "cell_type": "code",
   "execution_count": 4,
   "metadata": {},
   "outputs": [],
   "source": [
    "tomor_solver = semi_implicit_solver(Dw, rho, dx, dt, E, nu, gamma, MaxIter, epsilon)"
   ]
  },
  {
   "cell_type": "markdown",
   "metadata": {},
   "source": [
    "## Variable intialization"
   ]
  },
  {
   "cell_type": "code",
   "execution_count": 5,
   "metadata": {},
   "outputs": [
    {
     "name": "stderr",
     "output_type": "stream",
     "text": [
      "/media/Drives/Data/venvs/monai/lib/python3.6/site-packages/torch/nn/functional.py:3103: UserWarning: The default behavior for interpolate/upsample with float scale_factor changed in 1.6.0 to align with other frameworks/libraries, and now uses scale_factor directly, instead of relying on the computed output size. If you wish to restore the old behavior, please set recompute_scale_factor=True. See the documentation of nn.Upsample for details. \n",
      "  warnings.warn(\"The default behavior for interpolate/upsample with float scale_factor changed \"\n"
     ]
    }
   ],
   "source": [
    "m = Variable(torch.tensor(np.concatenate([wm[np.newaxis, :], gm[np.newaxis, :], csf[np.newaxis, :]], 0)).cuda().unsqueeze(0), requires_grad=False)\n",
    "m = F.interpolate(F.pad(m,(32,31,14,13,32,31)), scale_factor=0.5, mode='trilinear', align_corners=True)\n",
    "m_init = copy.deepcopy(m)\n",
    "u = Variable(torch.zeros(m.shape).cuda(), requires_grad=False)\n",
    "v = Variable(torch.zeros(m.shape).cuda(), requires_grad=False)\n",
    "c = Variable(torch.zeros(m.shape).cuda().sum(1), requires_grad=False).unsqueeze(1)\n",
    "c[..., 50, 75, 64] = 1.0"
   ]
  },
  {
   "cell_type": "markdown",
   "metadata": {},
   "source": [
    "## Run simulation"
   ]
  },
  {
   "cell_type": "code",
   "execution_count": 6,
   "metadata": {
    "scrolled": true
   },
   "outputs": [
    {
     "name": "stdout",
     "output_type": "stream",
     "text": [
      "Finished time step 1\n",
      "Finished time step 2\n",
      "Finished time step 3\n",
      "Finished time step 4\n",
      "Finished time step 5\n",
      "Finished time step 6\n",
      "Finished time step 7\n",
      "Finished time step 8\n",
      "Finished time step 9\n",
      "Finished time step 10\n",
      "Finished time step 11\n",
      "Finished time step 12\n",
      "Finished time step 13\n",
      "Finished time step 14\n",
      "Finished time step 15\n",
      "Finished time step 16\n",
      "Finished time step 17\n",
      "Finished time step 18\n",
      "Finished time step 19\n",
      "Finished time step 20\n",
      "Finished time step 21\n",
      "Finished time step 22\n",
      "Finished time step 23\n",
      "Finished time step 24\n",
      "Finished time step 25\n",
      "Finished time step 26\n",
      "Finished time step 27\n",
      "Finished time step 28\n",
      "Finished time step 29\n",
      "Finished time step 30\n",
      "Finished time step 31\n",
      "Finished time step 32\n",
      "Finished time step 33\n",
      "Finished time step 34\n",
      "Finished time step 35\n",
      "Finished time step 36\n",
      "Finished time step 37\n",
      "Finished time step 38\n",
      "Finished time step 39\n",
      "Finished time step 40\n",
      "Finished time step 41\n",
      "Finished time step 42\n",
      "Finished time step 43\n",
      "Finished time step 44\n",
      "Finished time step 45\n",
      "Finished time step 46\n",
      "Finished time step 47\n",
      "Finished time step 48\n",
      "Finished time step 49\n",
      "Finished time step 50\n",
      "Finished time step 51\n",
      "Finished time step 52\n",
      "Finished time step 53\n",
      "Finished time step 54\n",
      "Finished time step 55\n",
      "Finished time step 56\n",
      "Finished time step 57\n",
      "Finished time step 58\n",
      "Finished time step 59\n",
      "Finished time step 60\n",
      "Finished time step 61\n",
      "Finished time step 62\n",
      "Finished time step 63\n",
      "Finished time step 64\n",
      "Finished time step 65\n",
      "Finished time step 66\n",
      "Finished time step 67\n",
      "Finished time step 68\n",
      "Finished time step 69\n",
      "Finished time step 70\n",
      "Finished time step 71\n",
      "Finished time step 72\n",
      "Finished time step 73\n",
      "Finished time step 74\n",
      "Finished time step 75\n",
      "Finished time step 76\n",
      "Finished time step 77\n",
      "Finished time step 78\n",
      "Finished time step 79\n",
      "Finished time step 80\n",
      "Finished time step 81\n",
      "Finished time step 82\n",
      "Finished time step 83\n",
      "Finished time step 84\n",
      "Finished time step 85\n",
      "Finished time step 86\n",
      "Finished time step 87\n",
      "Finished time step 88\n",
      "Finished time step 89\n",
      "Finished time step 90\n",
      "Finished time step 91\n",
      "Finished time step 92\n",
      "Finished time step 93\n",
      "Finished time step 94\n",
      "Finished time step 95\n",
      "Finished time step 96\n",
      "Finished time step 97\n",
      "Finished time step 98\n",
      "Finished time step 99\n",
      "Finished time step 100\n",
      "Finished time step 101\n",
      "Finished time step 102\n"
     ]
    },
    {
     "ename": "KeyboardInterrupt",
     "evalue": "",
     "output_type": "error",
     "traceback": [
      "\u001b[0;31m---------------------------------------------------------------------------\u001b[0m",
      "\u001b[0;31mKeyboardInterrupt\u001b[0m                         Traceback (most recent call last)",
      "\u001b[0;32m<ipython-input-6-2cec5bbf74d5>\u001b[0m in \u001b[0;36m<module>\u001b[0;34m\u001b[0m\n\u001b[1;32m      7\u001b[0m \u001b[0mphi_brain\u001b[0m \u001b[0;34m=\u001b[0m \u001b[0mtorch\u001b[0m\u001b[0;34m.\u001b[0m\u001b[0msum\u001b[0m\u001b[0;34m(\u001b[0m\u001b[0mm\u001b[0m\u001b[0;34m,\u001b[0m \u001b[0;36m1\u001b[0m\u001b[0;34m,\u001b[0m \u001b[0mkeepdim\u001b[0m\u001b[0;34m=\u001b[0m\u001b[0;32mTrue\u001b[0m\u001b[0;34m)\u001b[0m\u001b[0;34m\u001b[0m\u001b[0;34m\u001b[0m\u001b[0m\n\u001b[1;32m      8\u001b[0m \u001b[0;32mfor\u001b[0m \u001b[0mt\u001b[0m \u001b[0;32min\u001b[0m \u001b[0mrange\u001b[0m\u001b[0;34m(\u001b[0m\u001b[0mTmax\u001b[0m\u001b[0;34m)\u001b[0m\u001b[0;34m:\u001b[0m\u001b[0;34m\u001b[0m\u001b[0;34m\u001b[0m\u001b[0m\n\u001b[0;32m----> 9\u001b[0;31m     \u001b[0mc\u001b[0m\u001b[0;34m,\u001b[0m \u001b[0mm\u001b[0m\u001b[0;34m,\u001b[0m \u001b[0mu\u001b[0m\u001b[0;34m,\u001b[0m \u001b[0mv\u001b[0m \u001b[0;34m=\u001b[0m \u001b[0mtomor_solver\u001b[0m\u001b[0;34m.\u001b[0m\u001b[0msolver_step\u001b[0m\u001b[0;34m(\u001b[0m\u001b[0mc\u001b[0m\u001b[0;34m,\u001b[0m \u001b[0mm\u001b[0m\u001b[0;34m,\u001b[0m \u001b[0mu\u001b[0m\u001b[0;34m,\u001b[0m \u001b[0mv\u001b[0m\u001b[0;34m,\u001b[0m \u001b[0mphi_brain\u001b[0m\u001b[0;34m,\u001b[0m \u001b[0mm_init\u001b[0m\u001b[0;34m)\u001b[0m\u001b[0;34m\u001b[0m\u001b[0;34m\u001b[0m\u001b[0m\n\u001b[0m\u001b[1;32m     10\u001b[0m     \u001b[0mc_list\u001b[0m\u001b[0;34m.\u001b[0m\u001b[0mappend\u001b[0m\u001b[0;34m(\u001b[0m\u001b[0mc\u001b[0m\u001b[0;34m.\u001b[0m\u001b[0mdetach\u001b[0m\u001b[0;34m(\u001b[0m\u001b[0;34m)\u001b[0m\u001b[0;34m.\u001b[0m\u001b[0mdata\u001b[0m\u001b[0;34m.\u001b[0m\u001b[0mcpu\u001b[0m\u001b[0;34m(\u001b[0m\u001b[0;34m)\u001b[0m\u001b[0;34m.\u001b[0m\u001b[0mnumpy\u001b[0m\u001b[0;34m(\u001b[0m\u001b[0;34m)\u001b[0m\u001b[0;34m)\u001b[0m\u001b[0;34m\u001b[0m\u001b[0;34m\u001b[0m\u001b[0m\n\u001b[1;32m     11\u001b[0m     \u001b[0mm_list\u001b[0m\u001b[0;34m.\u001b[0m\u001b[0mappend\u001b[0m\u001b[0;34m(\u001b[0m\u001b[0mm\u001b[0m\u001b[0;34m.\u001b[0m\u001b[0mdetach\u001b[0m\u001b[0;34m(\u001b[0m\u001b[0;34m)\u001b[0m\u001b[0;34m.\u001b[0m\u001b[0mdata\u001b[0m\u001b[0;34m.\u001b[0m\u001b[0mcpu\u001b[0m\u001b[0;34m(\u001b[0m\u001b[0;34m)\u001b[0m\u001b[0;34m.\u001b[0m\u001b[0mnumpy\u001b[0m\u001b[0;34m(\u001b[0m\u001b[0;34m)\u001b[0m\u001b[0;34m)\u001b[0m\u001b[0;34m\u001b[0m\u001b[0;34m\u001b[0m\u001b[0m\n",
      "\u001b[0;32m/media/Drives/Data/leon_tumor/code/tumor_mass_effect.py\u001b[0m in \u001b[0;36msolver_step\u001b[0;34m(self, c, m, u, v, phi_brain, m_0)\u001b[0m\n\u001b[1;32m    480\u001b[0m             \u001b[0;31m# compute the update of u\u001b[0m\u001b[0;34m\u001b[0m\u001b[0;34m\u001b[0m\u001b[0;34m\u001b[0m\u001b[0m\n\u001b[1;32m    481\u001b[0m             \u001b[0;32mfor\u001b[0m \u001b[0m_\u001b[0m \u001b[0;32min\u001b[0m \u001b[0mrange\u001b[0m\u001b[0;34m(\u001b[0m\u001b[0;36m5\u001b[0m\u001b[0;34m)\u001b[0m\u001b[0;34m:\u001b[0m\u001b[0;34m\u001b[0m\u001b[0;34m\u001b[0m\u001b[0m\n\u001b[0;32m--> 482\u001b[0;31m                 \u001b[0mu\u001b[0m \u001b[0;34m=\u001b[0m \u001b[0mself\u001b[0m\u001b[0;34m.\u001b[0m\u001b[0mupdate_u\u001b[0m\u001b[0;34m(\u001b[0m\u001b[0mu\u001b[0m\u001b[0;34m,\u001b[0m \u001b[0mc\u001b[0m\u001b[0;34m,\u001b[0m \u001b[0mphi_brain\u001b[0m\u001b[0;34m,\u001b[0m \u001b[0mgrad_phi_brain\u001b[0m\u001b[0;34m)\u001b[0m\u001b[0;34m\u001b[0m\u001b[0;34m\u001b[0m\u001b[0m\n\u001b[0m\u001b[1;32m    483\u001b[0m             \u001b[0mv\u001b[0m \u001b[0;34m=\u001b[0m \u001b[0;34m(\u001b[0m\u001b[0mu\u001b[0m\u001b[0;34m-\u001b[0m\u001b[0mu_init\u001b[0m\u001b[0;34m)\u001b[0m\u001b[0;34m/\u001b[0m\u001b[0mself\u001b[0m\u001b[0;34m.\u001b[0m\u001b[0mdt\u001b[0m\u001b[0;34m\u001b[0m\u001b[0;34m\u001b[0m\u001b[0m\n\u001b[1;32m    484\u001b[0m             \u001b[0mv\u001b[0m \u001b[0;34m=\u001b[0m \u001b[0mv\u001b[0m\u001b[0;34m.\u001b[0m\u001b[0mclamp\u001b[0m\u001b[0;34m(\u001b[0m\u001b[0mmin\u001b[0m\u001b[0;34m=\u001b[0m\u001b[0;34m-\u001b[0m\u001b[0;36m5e-4\u001b[0m\u001b[0;34m,\u001b[0m \u001b[0mmax\u001b[0m\u001b[0;34m=\u001b[0m\u001b[0;36m5e-4\u001b[0m\u001b[0;34m)\u001b[0m  \u001b[0;31m# TODO: check maximum feasible velocity for clamping\u001b[0m\u001b[0;34m\u001b[0m\u001b[0;34m\u001b[0m\u001b[0m\n",
      "\u001b[0;32m/media/Drives/Data/leon_tumor/code/tumor_mass_effect.py\u001b[0m in \u001b[0;36mupdate_u\u001b[0;34m(self, u, c, phi_brain, grad_phi_brain)\u001b[0m\n\u001b[1;32m    445\u001b[0m         \u001b[0;31m# TODO: Is this clamping needed for boundary?\u001b[0m\u001b[0;34m\u001b[0m\u001b[0;34m\u001b[0m\u001b[0;34m\u001b[0m\u001b[0m\n\u001b[1;32m    446\u001b[0m         \u001b[0mu\u001b[0m \u001b[0;34m=\u001b[0m \u001b[0mtorch\u001b[0m\u001b[0;34m.\u001b[0m\u001b[0mmul\u001b[0m\u001b[0;34m(\u001b[0m\u001b[0mu\u001b[0m\u001b[0;34m,\u001b[0m \u001b[0mphi_brain\u001b[0m\u001b[0;34m>\u001b[0m\u001b[0;36m0.9\u001b[0m\u001b[0;34m)\u001b[0m\u001b[0;34m\u001b[0m\u001b[0;34m\u001b[0m\u001b[0m\n\u001b[0;32m--> 447\u001b[0;31m         \u001b[0mu\u001b[0m\u001b[0;34m[\u001b[0m\u001b[0mtorch\u001b[0m\u001b[0;34m.\u001b[0m\u001b[0misnan\u001b[0m\u001b[0;34m(\u001b[0m\u001b[0mu\u001b[0m\u001b[0;34m)\u001b[0m\u001b[0;34m]\u001b[0m \u001b[0;34m=\u001b[0m \u001b[0;36m0.0\u001b[0m\u001b[0;34m\u001b[0m\u001b[0;34m\u001b[0m\u001b[0m\n\u001b[0m\u001b[1;32m    448\u001b[0m \u001b[0;34m\u001b[0m\u001b[0m\n\u001b[1;32m    449\u001b[0m         \u001b[0;32mreturn\u001b[0m \u001b[0mu\u001b[0m\u001b[0;34m\u001b[0m\u001b[0;34m\u001b[0m\u001b[0m\n",
      "\u001b[0;31mKeyboardInterrupt\u001b[0m: "
     ]
    }
   ],
   "source": [
    "#can be used to single out specific data\n",
    "stopit = 4\n",
    "c_list = [c.detach().data.cpu().numpy()]\n",
    "m_list = [m.detach().data.cpu().numpy()]\n",
    "u_list = []\n",
    "Tmax = 300\n",
    "phi_brain = torch.sum(m, 1, keepdim=True)\n",
    "for t in range(Tmax):\n",
    "    c, m, u, v = tomor_solver.solver_step(c, m, u, v, phi_brain, m_init)\n",
    "    c_list.append(c.detach().data.cpu().numpy())\n",
    "    m_list.append(m.detach().data.cpu().numpy())\n",
    "#     u_list.append(u.detach().data.cpu().numpy())\n",
    "    print(\"Finished time step\", t+1)\n",
    "    if math.isnan(u.detach().data.cpu().numpy().sum()):\n",
    "        break"
   ]
  },
  {
   "cell_type": "markdown",
   "metadata": {},
   "source": [
    "## Plot tumor"
   ]
  },
  {
   "cell_type": "code",
   "execution_count": 7,
   "metadata": {},
   "outputs": [],
   "source": [
    "import matplotlib.pyplot as plt\n",
    "from matplotlib.widgets import Slider, Button, RadioButtons\n",
    "%matplotlib tk\n",
    "from ipywidgets import *\n",
    "plt_list = c_list\n",
    "fig, ax = plt.subplots(1,4,dpi=150)\n",
    "plt.subplots_adjust(left=0.25, bottom=0.25)\n",
    "l1 = ax[0].imshow(c_list[0][0,0,:,:,64])\n",
    "l2 = ax[1].imshow(m_list[0][0,0,:,:,64])\n",
    "l3 = ax[2].imshow(m_list[0][0,1,:,:,64])\n",
    "l4 = ax[3].imshow(m_list[0][0,2,:,:,64])\n",
    "# ax[0].margins(x=0)\n",
    "\n",
    "axcolor = 'lightgoldenrodyellow'\n",
    "axfreq = plt.axes([0.25, 0.1, 0.65, 0.03], facecolor=axcolor)\n",
    "axamp = plt.axes([0.25, 0.15, 0.65, 0.03], facecolor=axcolor)\n",
    "\n",
    "stime_ = Slider(axfreq, 'Time', valmin=1, valmax=len(plt_list), valinit=5, valstep=1)\n",
    "sslice_ = Slider(axamp, 'Slice', valmin=1, valmax=plt_list[0].shape[4], valinit=5, valstep=1)\n",
    "\n",
    "def update(val):\n",
    "    time_ = stime_.val\n",
    "    slice_ = sslice_.val\n",
    "    l1.set_data(c_list[int(time_)-1][0,0,:,:,int(slice_)-1])\n",
    "    l2.set_data(m_list[int(time_)-1][0,0,:,:,int(slice_)-1])\n",
    "    l3.set_data(m_list[int(time_)-1][0,1,:,:,int(slice_)-1])\n",
    "    l4.set_data(m_list[int(time_)-1][0,2,:,:,int(slice_)-1])\n",
    "    fig.canvas.draw_idle()\n",
    "#     print('Volume Sum:', plt_list[int(time_)-1][:,2,...].sum())\n",
    "\n",
    "stime_.on_changed(update)\n",
    "sslice_.on_changed(update)\n",
    "\n",
    "plt.show()"
   ]
  },
  {
   "cell_type": "code",
   "execution_count": null,
   "metadata": {},
   "outputs": [],
   "source": []
  },
  {
   "cell_type": "code",
   "execution_count": null,
   "metadata": {},
   "outputs": [],
   "source": []
  }
 ],
 "metadata": {
  "kernelspec": {
   "display_name": "monai",
   "language": "python",
   "name": "monai"
  },
  "language_info": {
   "codemirror_mode": {
    "name": "ipython",
    "version": 3
   },
   "file_extension": ".py",
   "mimetype": "text/x-python",
   "name": "python",
   "nbconvert_exporter": "python",
   "pygments_lexer": "ipython3",
   "version": "3.6.9"
  }
 },
 "nbformat": 4,
 "nbformat_minor": 4
}
