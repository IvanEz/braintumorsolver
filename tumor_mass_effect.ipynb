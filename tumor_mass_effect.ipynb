{
 "cells": [
  {
   "cell_type": "code",
   "execution_count": 1,
   "metadata": {},
   "outputs": [],
   "source": [
    "from tumor_mass_effect import semi_implicit_solver\n",
    "from medpy.io import load\n",
    "import numpy as np\n",
    "import math\n",
    "import torch\n",
    "from torch import nn\n",
    "import torch.nn.functional as F\n",
    "from torch.autograd import Variable\n",
    "%load_ext autoreload\n",
    "%autoreload 2"
   ]
  },
  {
   "cell_type": "markdown",
   "metadata": {},
   "source": [
    "## All parameters"
   ]
  },
  {
   "cell_type": "code",
   "execution_count": 2,
   "metadata": {},
   "outputs": [],
   "source": [
    "epsilon = 0.9\n",
    "anatomy_folder = '/media/Drives/Data/leon_tumor/Atlas/anatomy/'\n",
    "Dg = 1.52e-07\n",
    "Dw = 1.52e-06\n",
    "dt = 0.5 #6.60154\n",
    "rho = 0.1553\n",
    "dx = 0.002\n",
    "E = np.float32(np.asarray([2100, 2100, 100, 8000]))\n",
    "nu = np.float32(np.asarray([0.4, 0.4, 0.1, 0.45]))\n",
    "gamma = 40000.\n",
    "MaxIter = 50"
   ]
  },
  {
   "cell_type": "code",
   "execution_count": 3,
   "metadata": {},
   "outputs": [],
   "source": [
    "wm, _ = load(anatomy_folder+'WM.nii.gz')\n",
    "gm, _ = load(anatomy_folder+'GM.nii.gz')\n",
    "csf, _ = load(anatomy_folder+'CSF.nii.gz')"
   ]
  },
  {
   "cell_type": "markdown",
   "metadata": {},
   "source": [
    "## Simulator"
   ]
  },
  {
   "cell_type": "code",
   "execution_count": 4,
   "metadata": {},
   "outputs": [],
   "source": [
    "tomor_solver = semi_implicit_solver(Dw, rho, dx, dt, E, nu, gamma, MaxIter, epsilon)"
   ]
  },
  {
   "cell_type": "markdown",
   "metadata": {},
   "source": [
    "## Variable intialization"
   ]
  },
  {
   "cell_type": "code",
   "execution_count": 5,
   "metadata": {},
   "outputs": [
    {
     "name": "stderr",
     "output_type": "stream",
     "text": [
      "/media/Drives/Data/venvs/monai/lib/python3.6/site-packages/torch/nn/functional.py:3103: UserWarning: The default behavior for interpolate/upsample with float scale_factor changed in 1.6.0 to align with other frameworks/libraries, and now uses scale_factor directly, instead of relying on the computed output size. If you wish to restore the old behavior, please set recompute_scale_factor=True. See the documentation of nn.Upsample for details. \n",
      "  warnings.warn(\"The default behavior for interpolate/upsample with float scale_factor changed \"\n"
     ]
    }
   ],
   "source": [
    "m = Variable(torch.tensor(np.concatenate([wm[np.newaxis, :], gm[np.newaxis, :], csf[np.newaxis, :]], 0)).cuda().unsqueeze(0), requires_grad=False)\n",
    "m = F.interpolate(F.pad(m,(32,31,14,13,32,31)), scale_factor=0.5, mode='trilinear', align_corners=True)\n",
    "u = Variable(torch.zeros(m.shape).cuda(), requires_grad=False)\n",
    "v = 0.0001*Variable(torch.ones(m.shape).cuda(), requires_grad=False)\n",
    "c = Variable(torch.zeros(m.shape).cuda().sum(1), requires_grad=False).unsqueeze(1)\n",
    "c[..., 54, 64, 64] = 1.0"
   ]
  },
  {
   "cell_type": "markdown",
   "metadata": {},
   "source": [
    "## Run simulation"
   ]
  },
  {
   "cell_type": "code",
   "execution_count": 6,
   "metadata": {
    "scrolled": true
   },
   "outputs": [
    {
     "name": "stdout",
     "output_type": "stream",
     "text": [
      "Finished time step 1\n",
      "Finished time step 2\n",
      "Finished time step 3\n",
      "Finished time step 4\n",
      "Finished time step 5\n",
      "Finished time step 6\n",
      "Finished time step 7\n",
      "Finished time step 8\n",
      "Finished time step 9\n",
      "Finished time step 10\n",
      "Finished time step 11\n",
      "Finished time step 12\n",
      "Finished time step 13\n",
      "Finished time step 14\n",
      "Finished time step 15\n",
      "Finished time step 16\n",
      "Finished time step 17\n",
      "Finished time step 18\n",
      "Finished time step 19\n",
      "Finished time step 20\n",
      "Finished time step 21\n",
      "Finished time step 22\n",
      "Finished time step 23\n",
      "Finished time step 24\n",
      "Finished time step 25\n",
      "Finished time step 26\n",
      "Finished time step 27\n",
      "Finished time step 28\n",
      "Finished time step 29\n",
      "Finished time step 30\n",
      "Finished time step 31\n",
      "Finished time step 32\n",
      "Finished time step 33\n",
      "Finished time step 34\n",
      "Finished time step 35\n",
      "Finished time step 36\n",
      "Finished time step 37\n",
      "Finished time step 38\n",
      "Finished time step 39\n",
      "Finished time step 40\n",
      "Finished time step 41\n",
      "Finished time step 42\n",
      "Finished time step 43\n",
      "Finished time step 44\n",
      "Finished time step 45\n",
      "Finished time step 46\n",
      "Finished time step 47\n",
      "Finished time step 48\n",
      "Finished time step 49\n",
      "Finished time step 50\n"
     ]
    }
   ],
   "source": [
    "#can be used to single out specific data\n",
    "stopit = 4\n",
    "c_list = []\n",
    "m_list = []\n",
    "u_list = []\n",
    "phi_brain = torch.sum(m, 1, keepdim=True)\n",
    "Tmax = 50\n",
    "for t in range(Tmax):\n",
    "    c, m, u, v = tomor_solver.solver_step(c, m, u, v, phi_brain)\n",
    "    c_list.append(c.detach().data.cpu().numpy())\n",
    "    m_list.append(m.detach().data.cpu().numpy())\n",
    "    u_list.append(u.detach().data.cpu().numpy())\n",
    "    print(\"Finished time step\", t+1)\n",
    "    if math.isnan(u.detach().data.cpu().numpy().sum()):\n",
    "        break"
   ]
  },
  {
   "cell_type": "markdown",
   "metadata": {},
   "source": [
    "## Plot tumor"
   ]
  },
  {
   "cell_type": "code",
   "execution_count": 7,
   "metadata": {},
   "outputs": [],
   "source": [
    "import matplotlib.pyplot as plt\n",
    "from matplotlib.widgets import Slider, Button, RadioButtons\n",
    "%matplotlib tk\n",
    "from ipywidgets import *\n",
    "plt_list = m_list\n",
    "fig, ax = plt.subplots(dpi=150)\n",
    "plt.subplots_adjust(left=0.25, bottom=0.25)\n",
    "l = plt.imshow(plt_list[0][0,1,:,:,64])\n",
    "ax.margins(x=0)\n",
    "\n",
    "axcolor = 'lightgoldenrodyellow'\n",
    "axfreq = plt.axes([0.25, 0.1, 0.65, 0.03], facecolor=axcolor)\n",
    "axamp = plt.axes([0.25, 0.15, 0.65, 0.03], facecolor=axcolor)\n",
    "\n",
    "stime_ = Slider(axfreq, 'Time', valmin=1, valmax=len(plt_list), valinit=5, valstep=1)\n",
    "sslice_ = Slider(axamp, 'Slice', valmin=1, valmax=plt_list[0].shape[4], valinit=5, valstep=1)\n",
    "\n",
    "def update(val):\n",
    "    time_ = stime_.val\n",
    "    slice_ = sslice_.val\n",
    "    l.set_data(plt_list[time_-1][0,1,:,:,slice_-1])\n",
    "    fig.canvas.draw_idle()\n",
    "\n",
    "\n",
    "stime_.on_changed(update)\n",
    "sslice_.on_changed(update)\n",
    "\n",
    "plt.show()"
   ]
  },
  {
   "cell_type": "code",
   "execution_count": null,
   "metadata": {},
   "outputs": [],
   "source": []
  }
 ],
 "metadata": {
  "kernelspec": {
   "display_name": "monai",
   "language": "python",
   "name": "monai"
  },
  "language_info": {
   "codemirror_mode": {
    "name": "ipython",
    "version": 3
   },
   "file_extension": ".py",
   "mimetype": "text/x-python",
   "name": "python",
   "nbconvert_exporter": "python",
   "pygments_lexer": "ipython3",
   "version": "3.6.9"
  }
 },
 "nbformat": 4,
 "nbformat_minor": 4
}
